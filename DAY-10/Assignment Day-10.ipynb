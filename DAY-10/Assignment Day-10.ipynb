{
 "cells": [
  {
   "cell_type": "markdown",
   "metadata": {},
   "source": [
    "\n",
    "# HYPOTHESIS\n",
    "\n",
    "1) If I take my vitamins every day, then I will not feel tired.\n",
    "\n",
    "2) If you cover a wound with a bandage, then it will heal with less scarring.\n",
    "\n",
    "3) All lilies have same number of petals.\n",
    "\n",
    "4) Consumption of sugary drinks everyday leads to obesity.\n",
    "\n",
    "5) If I replace the battery in my car, then my car will get better gas mileage.\n",
    "\n",
    "6) If I add fertilizer to my garden, then my plants will grow faster.\n",
    "\n",
    "7) If I brush my teeth every day, then I will not develop cavities.\n",
    "\n",
    "8) If you get at least 6 hours of sleep, you will do better on tests than if you get less sleep.\n",
    "\n",
    "9) If I shampoo my hair everyday, then I won't have dandruff.\n",
    "\n",
    "10) If I just think positive thoughts, then I will not have a bad day."
   ]
  },
  {
   "cell_type": "markdown",
   "metadata": {},
   "source": [
    "# Question 1: The avearage house rent in an apartment is 35 per month , X'= 43 and S = 33.(in thousands) Assume level of significance to be .20 and sample is 20.\n",
    "\n",
    "H0:mu=35 So it is two tail test and S is given so t test.\n",
    "\n",
    "Table value is 1.328 and calculated value is .1040 as .1040 lies between -1.328 to +1.328 ,null hypothesis is accepted "
   ]
  },
  {
   "cell_type": "markdown",
   "metadata": {},
   "source": [
    "# Question 2: The avearage rent of a shop in a shopping center is 67 per month, X'= 88 and S = 43.(in thousands) Assume level of significance to be .10 and sample is 25.\n",
    "\n",
    "H0:mu=67 So it is two tail test and S is given so t test\n",
    "\n",
    "Table value is 1.711 and calculated value is 2.4419 as 2.4419 does not lie between -1.711 to +1.711 ,null hypothesis is rejected ."
   ]
  },
  {
   "cell_type": "markdown",
   "metadata": {},
   "source": [
    "# Question 3: the mean price of a doll is 15 , given X'=23 and sigma = 11. Assume level of significance to be .10 and sample is 19.\n",
    "\n",
    "H0:mu=15 So it is two tail test and sigma is given so Z test.\n",
    "\n",
    "Table value is 1.734, and calculated value is 1.8353, as 1.8353 does not lie between -1.734 to +1.734 ,null hypothesis is rejected ."
   ]
  },
  {
   "cell_type": "markdown",
   "metadata": {},
   "source": [
    "# Question 4: A teacher wanted to know about students IQ so she collected sample of 40 students. IQ score and have a mean score of 112.5. The mean population IQ is 110 with sigma = 10.(alpha is not given assume to be .05)\n",
    "\n",
    "H0:mu=110 So it is two tail test and sigma is given so Z test.\n",
    "\n",
    "Table value is 2.045 and calculated value is 1.5812 as 1.5812 lies between -2.045 to +2.045 ,null hypothesis is accepted."
   ]
  },
  {
   "cell_type": "markdown",
   "metadata": {},
   "source": [
    "# Question 5: Average number of children in a home is 3.if X'= 4 and S = 5. Assume level of significance to be .10 and sample is 21.\n",
    "\n",
    "H0:mu >= 3 This is one tail and left tail test. It is a t test as S is given.\n",
    "\n",
    "Table value is 1.328 and calculated value is .9165 as .9165 greater than -1.328 , null hypothesis is accepted."
   ]
  },
  {
   "cell_type": "markdown",
   "metadata": {},
   "source": [
    "# Question 6: Average number of children in a home is 2.if X'= 4 and S = 6. Assume level of significance to be .10 and sample is 17.\n",
    "\n",
    "H0:mu <= 3 This is one tail and right tail test. It is a t test as S is given\n",
    "\n",
    "Table value is 1.337. and calcaluted value is 1.3744, as 1.3744 lies outside the 1.337 , null hypothesis is rejected."
   ]
  },
  {
   "cell_type": "markdown",
   "metadata": {},
   "source": [
    "# Question 7: Average number of children in a home is 4.if X'= 6 and S = 6. Assume level of significance to be .05 and sample is 10.\n",
    "\n",
    "H0:mu <= 3 This is one tail and right tail test. It is a t test as S is given\n",
    "\n",
    "Table value is 1.833. And calcaluted value is 1.0541 , as 1.0541 lies within 1.833 , null hypothesis is accepted."
   ]
  },
  {
   "cell_type": "markdown",
   "metadata": {},
   "source": [
    "# Question 8: Average number of people in a home are 6. X'= 9 and sigma = 10 assume alpha to be .10 and sample is 30\n",
    "\n",
    "H0:mu <= 6 This is one tail and right tail test. It is a Z test as sigma is given\n",
    "\n",
    "Table value is 1.311 . And calcaluted value is 1.6432 , as 1.6432 lies outside 1.311 , null hypothesis is rejected."
   ]
  },
  {
   "cell_type": "markdown",
   "metadata": {},
   "source": [
    "# Question 9: Average number of people in a home are 5. X'= 8 and sigma = 10 assume alpha to be .05 and sample is 20\n",
    "\n",
    "H0:mu <= 5 This is one tail and right tail test. It is a Z test as sigma is given\n",
    "\n",
    "Table value is 1.729 . And calcaluted value is 1.3416 , as 1.3416 lies inside 1.729 , null hypothesis is accepted."
   ]
  },
  {
   "cell_type": "markdown",
   "metadata": {},
   "source": [
    "# Question 10: Average number of people in a home are 4. X'= 9 and sigma = 15 assume alpha to be .05 and sample is 25\n",
    "\n",
    "H0:mu >=4 This is one tail and left tail test. It is a Z test as sigma is given\n",
    "\n",
    "Table value is 1.711. And calcaluted value is 1.6667 , as 1.6667 greater than -1.729 , null hypothesis is accepted."
   ]
  }
 ],
 "metadata": {
  "kernelspec": {
   "display_name": "Python 3",
   "language": "python",
   "name": "python3"
  },
  "language_info": {
   "codemirror_mode": {
    "name": "ipython",
    "version": 3
   },
   "file_extension": ".py",
   "mimetype": "text/x-python",
   "name": "python",
   "nbconvert_exporter": "python",
   "pygments_lexer": "ipython3",
   "version": "3.7.6"
  }
 },
 "nbformat": 4,
 "nbformat_minor": 4
}
