{
 "cells": [
  {
   "cell_type": "markdown",
   "metadata": {},
   "source": [
    "# Question 1 :\n",
    "Write a Python program to find the first 20 non-even prime natural numbers"
   ]
  },
  {
   "cell_type": "code",
   "execution_count": 10,
   "metadata": {},
   "outputs": [
    {
     "name": "stdout",
     "output_type": "stream",
     "text": [
      "Prime numbers between 2 and  75  are:\n",
      "3 5 7 11 13 17 19 23 29 31 37 41 43 47 53 59 61 67 71 73 "
     ]
    }
   ],
   "source": [
    "def print_first_N_primes(N): \n",
    "  \n",
    "    i, j, flag = 0, 0, 0; \n",
    "  \n",
    "    print(\"Prime numbers between 2 and \", N , \" are:\"); \n",
    "  \n",
    "    for i in range(1, N + 1, 1): \n",
    "\n",
    "        if (i==2 or i == 1 or i == 0): \n",
    "            continue; \n",
    " \n",
    "        flag = 1; \n",
    "  \n",
    "        for j in range(2, ((i // 2) + 1), 1): \n",
    "            if (i % j == 0): \n",
    "                flag = 0; \n",
    "                break; \n",
    "  \n",
    "        if (flag == 1): \n",
    "            print(i, end = \" \"); \n",
    "\n",
    "N = 75; \n",
    "print_first_N_primes(N);"
   ]
  },
  {
   "cell_type": "markdown",
   "metadata": {},
   "source": [
    "# Question 2 :\n",
    "Write a Python program to implement 15 functions of string.\n"
   ]
  },
  {
   "cell_type": "code",
   "execution_count": 11,
   "metadata": {},
   "outputs": [
    {
     "name": "stdout",
     "output_type": "stream",
     "text": [
      "Old String:  tomorrow is my birthday\n",
      "Capitalized String: Tomorrow is my birthday\n",
      "Centered String:  tomorrow is my birthday \n",
      "Lowercase string: i love letsupgrade\n",
      "The count is: 3\n",
      "Substring 'eclipse will': 12\n",
      "True\n",
      "s1.join(s2): 1abc2abc3\n",
      "th7s 8g usk59@\n",
      "RITIKA IS A KIND SOUL\n",
      "tHiS sHoUlD bE mIxEd CaSeD.\n",
      "('Darshan sir ', 'is ', 'the best trainer')\n",
      "lov\n",
      "main hoon, aage aage main hoon\n",
      "The filtered vowels are:\n",
      "a\n",
      "e\n",
      "i\n",
      "o\n",
      "id of dumstd = 2323988720264\n"
     ]
    }
   ],
   "source": [
    "string = \"tomorrow is my birthday\"\n",
    "capitalized_string = string.capitalize()\n",
    "print('Old String: ', string)\n",
    "print('Capitalized String:', capitalized_string)\n",
    "new_string = string.center(24)\n",
    "print(\"Centered String: \", new_string)\n",
    "string1 = \"I LOVE LETSUPGRADE\"\n",
    "print(\"Lowercase string:\", string1.casefold())\n",
    "string2 = \"kavya is pretty,kavya is brainy,kavya is talented\"\n",
    "substring = \"kavya\"\n",
    "count = string2.count(substring)\n",
    "print(\"The count is:\", count)\n",
    "sentence = \"this sunday eclipse will occur\"\n",
    "result = sentence.index('eclipse will')\n",
    "print(\"Substring 'eclipse will':\", result)\n",
    "name = \"anjali\"\n",
    "print(name.isalpha())\n",
    "s1 = 'abc'\n",
    "s2 = '123'\n",
    "print('s1.join(s2):', s1.join(s2))\n",
    "string3 = \"TH7S 8G USK59@\"\n",
    "print(string3.lower()) \n",
    "string4 = \"ritika is a kind soul\"\n",
    "print(string4.upper())\n",
    "string5 = \"ThIs ShOuLd Be MiXeD cAsEd.\"\n",
    "print(string5.swapcase())\n",
    "string6 = \"Darshan sir is the best trainer\"\n",
    "print(string6.partition('is '))\n",
    "string7 = '  xoxo love xoxo   '\n",
    "print(string7.strip(' xoe'))\n",
    "song = 'main hoon, hero tera'\n",
    "print(song.replace('hero tera', 'aage aage main hoon'))\n",
    "letters = ['a', 'b', 'd', 'e', 'i', 'j', 'o']\n",
    "def filterVowels(letter):\n",
    "    vowels = ['a', 'e', 'i', 'o', 'u']\n",
    "    if(letter in vowels):\n",
    "        return True\n",
    "    else:\n",
    "        return False\n",
    "filteredVowels = filter(filterVowels, letters)\n",
    "print('The filtered vowels are:')\n",
    "for vowel in filteredVowels:\n",
    "    print(vowel)\n",
    "class std:\n",
    "    b = 5\n",
    "dumstd = std()\n",
    "print('id of dumstd =',id(dumstd))"
   ]
  },
  {
   "cell_type": "markdown",
   "metadata": {},
   "source": [
    "# Question 3:\n",
    "Write a Python program to check if the given string is a Palindrome or Anagram or None of them.\n",
    "Display the message accordingly to the user."
   ]
  },
  {
   "cell_type": "code",
   "execution_count": 8,
   "metadata": {},
   "outputs": [
    {
     "name": "stdout",
     "output_type": "stream",
     "text": [
      "Enter string x: testset\n",
      "Enter string y: settest\n",
      "Strings are anagrams\n",
      "testset is a pallindrome\n"
     ]
    }
   ],
   "source": [
    "def check(x,y):\n",
    "    if(sorted(x) == sorted(y)):\n",
    "        print(\"Strings are anagrams\")\n",
    "        if(x==x[::-1]):\n",
    "            print(x,\"is a pallindrome\")\n",
    "        if(y==y[::-1]):\n",
    "            print(y,\"is a pallindrome\")\n",
    "    else:\n",
    "        print(\"None of them\")\n",
    "        \n",
    "x=input(\"Enter string x: \")\n",
    "y=input(\"Enter string y: \")\n",
    "check(x,y)"
   ]
  },
  {
   "cell_type": "markdown",
   "metadata": {},
   "source": [
    "# Question 4:\n",
    "Write a Python's user defined function that removes all the additional characters from the string\n",
    "and converts it finally to lower case using built-in lower(). eg: If the string is \"Dr. Darshan Ingle\n",
    "@AI-ML Trainer\", then the output be \"drdarshaningle aimltrainer\"."
   ]
  },
  {
   "cell_type": "code",
   "execution_count": 12,
   "metadata": {},
   "outputs": [
    {
     "name": "stdout",
     "output_type": "stream",
     "text": [
      "enter given stringMiss. Dravya @AI-ML Student\n",
      "missdravyaaimlstudent\n"
     ]
    }
   ],
   "source": [
    "a_string = str(input(\"enter given string\"))\n",
    "alpha = \"\"\n",
    "for character in a_string:\n",
    "    if character.isalpha():\n",
    "        alpha += character        \n",
    "print(alpha.lower())"
   ]
  }
 ],
 "metadata": {
  "kernelspec": {
   "display_name": "Python 3",
   "language": "python",
   "name": "python3"
  },
  "language_info": {
   "codemirror_mode": {
    "name": "ipython",
    "version": 3
   },
   "file_extension": ".py",
   "mimetype": "text/x-python",
   "name": "python",
   "nbconvert_exporter": "python",
   "pygments_lexer": "ipython3",
   "version": "3.7.6"
  }
 },
 "nbformat": 4,
 "nbformat_minor": 4
}
