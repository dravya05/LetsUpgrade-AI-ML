{
 "cells": [
  {
   "cell_type": "markdown",
   "metadata": {},
   "source": [
    "# Question 1 :\n",
    "Research on whether addition, subtraction, multiplication, division, floor division and modulo\n",
    "operations be performed on complex numbers. Based on your study, implement a Python\n",
    "program to demonstrate these operations.\n"
   ]
  },
  {
   "cell_type": "code",
   "execution_count": 1,
   "metadata": {},
   "outputs": [
    {
     "name": "stdout",
     "output_type": "stream",
     "text": [
      "Enter the complex value of a: 4+3j\n",
      "Enter the complex value of b: 5-8j\n",
      "Enter the operation to be performed among +,-,*,/,//,%+\n",
      "(4+3j) + (5-8j) = (9-5j)\n"
     ]
    }
   ],
   "source": [
    "a = complex(input(\"Enter the complex value of a: \"))\n",
    "b = complex(input(\"Enter the complex value of b: \"))\n",
    "ch = input(\"Enter the operation to be performed among +,-,*,/,//,%\")\n",
    "result = 0\n",
    "if ch == '+':\n",
    "    result = a+b\n",
    "elif ch == '-':\n",
    "    result = a-b\n",
    "elif ch == '*':\n",
    "    result = a*b\n",
    "elif ch == '/':\n",
    "    result = a/b\n",
    "elif ch == '//':\n",
    "    print(\"Floor divison of complex numbers is not possible\")\n",
    "elif ch == '%':\n",
    "    print(\"Modulo operation is not possible for complex numbers\")\n",
    "    \n",
    "print(a, ch ,b, \"=\",result)\n"
   ]
  },
  {
   "cell_type": "code",
   "execution_count": 2,
   "metadata": {},
   "outputs": [
    {
     "name": "stdout",
     "output_type": "stream",
     "text": [
      "Enter the complex value of a: 2-9j\n",
      "Enter the complex value of b: 6+7j\n",
      "Enter the operation to be performed among +,-,*,/,//,%-\n",
      "(2-9j) - (6+7j) = (-4-16j)\n"
     ]
    }
   ],
   "source": [
    "a = complex(input(\"Enter the complex value of a: \"))\n",
    "b = complex(input(\"Enter the complex value of b: \"))\n",
    "ch = input(\"Enter the operation to be performed among +,-,*,/,//,%\")\n",
    "result = 0\n",
    "if ch == '+':\n",
    "    result = a+b\n",
    "elif ch == '-':\n",
    "    result = a-b\n",
    "elif ch == '*':\n",
    "    result = a*b\n",
    "elif ch == '/':\n",
    "    result = a/b\n",
    "elif ch == '//':\n",
    "    print(\"Floor divison of complex numbers is not possible\")\n",
    "elif ch == '%':\n",
    "    print(\"Modulo operation is not possible for complex numbers\")\n",
    "    \n",
    "print(a, ch ,b, \"=\",result)\n"
   ]
  },
  {
   "cell_type": "code",
   "execution_count": 3,
   "metadata": {},
   "outputs": [
    {
     "name": "stdout",
     "output_type": "stream",
     "text": [
      "Enter the complex value of a: 12+10j\n",
      "Enter the complex value of b: 9-17j\n",
      "Enter the operation to be performed among +,-,*,/,//,%*\n",
      "(12+10j) * (9-17j) = (278-114j)\n"
     ]
    }
   ],
   "source": [
    "a = complex(input(\"Enter the complex value of a: \"))\n",
    "b = complex(input(\"Enter the complex value of b: \"))\n",
    "ch = input(\"Enter the operation to be performed among +,-,*,/,//,%\")\n",
    "result = 0\n",
    "if ch == '+':\n",
    "    result = a+b\n",
    "elif ch == '-':\n",
    "    result = a-b\n",
    "elif ch == '*':\n",
    "    result = a*b\n",
    "elif ch == '/':\n",
    "    result = a/b\n",
    "elif ch == '//':\n",
    "    print(\"Floor divison of complex numbers is not possible\")\n",
    "elif ch == '%':\n",
    "    print(\"Modulo operation is not possible for complex numbers\")\n",
    "    \n",
    "print(a, ch ,b, \"=\",result)\n"
   ]
  },
  {
   "cell_type": "code",
   "execution_count": 4,
   "metadata": {},
   "outputs": [
    {
     "name": "stdout",
     "output_type": "stream",
     "text": [
      "Enter the complex value of a: 1+2j\n",
      "Enter the complex value of b: 3+4j\n",
      "Enter the operation to be performed among +,-,*,/,//,%/\n",
      "(1+2j) / (3+4j) = (0.44+0.08j)\n"
     ]
    }
   ],
   "source": [
    "a = complex(input(\"Enter the complex value of a: \"))\n",
    "b = complex(input(\"Enter the complex value of b: \"))\n",
    "ch = input(\"Enter the operation to be performed among +,-,*,/,//,%\")\n",
    "result = 0\n",
    "if ch == '+':\n",
    "    result = a+b\n",
    "elif ch == '-':\n",
    "    result = a-b\n",
    "elif ch == '*':\n",
    "    result = a*b\n",
    "elif ch == '/':\n",
    "    result = a/b\n",
    "elif ch == '//':\n",
    "    print(\"Floor divison of complex numbers is not possible\")\n",
    "elif ch == '%':\n",
    "    print(\"Modulo operation is not possible for complex numbers\")\n",
    "    \n",
    "print(a, ch ,b, \"=\",result)\n"
   ]
  },
  {
   "cell_type": "code",
   "execution_count": 5,
   "metadata": {},
   "outputs": [
    {
     "name": "stdout",
     "output_type": "stream",
     "text": [
      "Enter the complex value of a: 2-2j\n",
      "Enter the complex value of b: 6-7j\n",
      "Enter the operation to be performed among +,-,*,/,//,%//\n",
      "Floor divison of complex numbers is not possible\n",
      "(2-2j) // (6-7j) = 0\n"
     ]
    }
   ],
   "source": [
    "a = complex(input(\"Enter the complex value of a: \"))\n",
    "b = complex(input(\"Enter the complex value of b: \"))\n",
    "ch = input(\"Enter the operation to be performed among +,-,*,/,//,%\")\n",
    "result = 0\n",
    "if ch == '+':\n",
    "    result = a+b\n",
    "elif ch == '-':\n",
    "    result = a-b\n",
    "elif ch == '*':\n",
    "    result = a*b\n",
    "elif ch == '/':\n",
    "    result = a/b\n",
    "elif ch == '//':\n",
    "    print(\"Floor divison of complex numbers is not possible\")\n",
    "elif ch == '%':\n",
    "    print(\"Modulo operation is not possible for complex numbers\")\n",
    "    \n",
    "print(a, ch ,b, \"=\",result)\n"
   ]
  },
  {
   "cell_type": "code",
   "execution_count": 10,
   "metadata": {},
   "outputs": [
    {
     "name": "stdout",
     "output_type": "stream",
     "text": [
      "Enter the complex value of a: 2-12j\n",
      "Enter the complex value of b: 4-5j\n",
      "Enter the operation to be performed among +,-,*,/,//,%%\n",
      "Modulo operation is not possible for complex numbers\n",
      "(2-12j) % (4-5j) = 0\n"
     ]
    }
   ],
   "source": [
    "a = complex(input(\"Enter the complex value of a: \"))\n",
    "b = complex(input(\"Enter the complex value of b: \"))\n",
    "ch = input(\"Enter the operation to be performed among +,-,*,/,//,%\")\n",
    "result = 0\n",
    "if ch == '+':\n",
    "    result = a+b\n",
    "elif ch == '-':\n",
    "    result = a-b\n",
    "elif ch == '*':\n",
    "    result = a*b\n",
    "elif ch == '/':\n",
    "    result = a/b\n",
    "elif ch == '//':\n",
    "    print(\"Floor divison of complex numbers is not possible\")\n",
    "elif ch == '%':\n",
    "    print(\"Modulo operation is not possible for complex numbers\")\n",
    "print(a, ch ,b, \"=\",result)\n"
   ]
  },
  {
   "cell_type": "markdown",
   "metadata": {},
   "source": [
    "# Question 2 :\n",
    "Research on range() functions and its parameters. Create a markdown cell and write in your own\n",
    "words (no copy-paste from google please) what you understand about it. Implement a small\n",
    "program of your choice on the same."
   ]
  },
  {
   "cell_type": "markdown",
   "metadata": {},
   "source": [
    "- range() function is an built-in function which generates integers between the given limit. \n",
    "- The range() function returns a sequence of numbers, starting from 0 by default, and increments by 1 (by default), and stops before a specified number.\n",
    "- Its start value is called the lower limit and stop value is called the upper limit.\n",
    "- The upper limit value will not be executed, the preceeding number will be executed."
   ]
  },
  {
   "cell_type": "code",
   "execution_count": 14,
   "metadata": {},
   "outputs": [
    {
     "name": "stdout",
     "output_type": "stream",
     "text": [
      "2 is an even number\n",
      "4 is an even number\n",
      "6 is an even number\n",
      "8 is an even number\n",
      "10 is an even number\n",
      "12 is an even number\n",
      "14 is an even number\n",
      "16 is an even number\n",
      "18 is an even number\n",
      "20 is an even number\n"
     ]
    }
   ],
   "source": [
    "# Program implementing range() fumnction\n",
    "for i in range(1,21):\n",
    "    if i%2 == 0:\n",
    "        print(i, \"is an even number\")\n",
    "   "
   ]
  },
  {
   "cell_type": "markdown",
   "metadata": {},
   "source": [
    "# Question 3:\n",
    " Consider two numbers. Perform their subtraction and if the result of subtraction is greater than\n",
    "25, print their multiplication result else print their division result.\n"
   ]
  },
  {
   "cell_type": "code",
   "execution_count": 16,
   "metadata": {},
   "outputs": [
    {
     "name": "stdout",
     "output_type": "stream",
     "text": [
      "Enter the value of a: 69\n",
      "Enter the value of b: 27\n",
      "Difference of a and b is  42\n",
      "42 is greater than 25\n",
      "Product of a and b is:  1863\n"
     ]
    }
   ],
   "source": [
    "a = int(input(\"Enter the value of a: \"))\n",
    "b = int(input(\"Enter the value of b: \"))\n",
    "diff = a - b\n",
    "print(\"Difference of a and b is \",diff)\n",
    "if diff > 25:\n",
    "    print(diff, \"is greater than 25\")\n",
    "    result = a * b\n",
    "    print(\"Product of a and b is: \",result)\n",
    "else:\n",
    "    print(diff, \"is less than 25\")\n",
    "    result = a/b\n",
    "    print(\"Quotient of a and b is: \",result)\n",
    "    "
   ]
  },
  {
   "cell_type": "markdown",
   "metadata": {},
   "source": [
    "# Question 4:\n",
    "Consider a list of 10 elements of integer values. If the number in the list is divisible by 2, print the\n",
    "result as \"square of that number minus 2\".\n"
   ]
  },
  {
   "cell_type": "code",
   "execution_count": 20,
   "metadata": {},
   "outputs": [
    {
     "name": "stdout",
     "output_type": "stream",
     "text": [
      "Square of 2 is 4\n",
      "4 minus 2 =  2\n",
      "Square of 8 is 64\n",
      "64 minus 2 =  62\n",
      "Square of 4 is 16\n",
      "16 minus 2 =  14\n",
      "Square of 6 is 36\n",
      "36 minus 2 =  34\n"
     ]
    }
   ],
   "source": [
    "l = [1,2,3,7,8,9,4,5,6]\n",
    "for i in l:\n",
    "    if (i%2==0):\n",
    "        result = (i**2)-2\n",
    "        print(\"Square of\",i,\"is\",i**2)\n",
    "        print(i**2,\"minus 2 = \",result)"
   ]
  },
  {
   "cell_type": "markdown",
   "metadata": {},
   "source": [
    "# Question 5:\n",
    "Consider a list of 10 elements. Print all the elements in the list which are greater than 7 when that\n",
    "number is divided 2."
   ]
  },
  {
   "cell_type": "code",
   "execution_count": 30,
   "metadata": {},
   "outputs": [
    {
     "name": "stdout",
     "output_type": "stream",
     "text": [
      "Numbers greater than 7 and divisible by 2 in the list are  28\n",
      "Numbers greater than 7 and divisible by 2 in the list are  26\n",
      "Numbers greater than 7 and divisible by 2 in the list are  52\n",
      "Numbers greater than 7 and divisible by 2 in the list are  78\n"
     ]
    }
   ],
   "source": [
    "l = [1,7,28,26,49,52,78,81,99,101]\n",
    "for i in l:\n",
    "    if i > 7:\n",
    "        if (i%2==0):\n",
    "            print(\"Numbers greater than 7 and divisible by 2 in the list are \",i)"
   ]
  }
 ],
 "metadata": {
  "kernelspec": {
   "display_name": "Python 3",
   "language": "python",
   "name": "python3"
  },
  "language_info": {
   "codemirror_mode": {
    "name": "ipython",
    "version": 3
   },
   "file_extension": ".py",
   "mimetype": "text/x-python",
   "name": "python",
   "nbconvert_exporter": "python",
   "pygments_lexer": "ipython3",
   "version": "3.7.6"
  }
 },
 "nbformat": 4,
 "nbformat_minor": 4
}
