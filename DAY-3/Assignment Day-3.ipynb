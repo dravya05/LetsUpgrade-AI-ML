{
 "cells": [
  {
   "cell_type": "markdown",
   "metadata": {},
   "source": [
    "# 1. Program to subtract two complex numbers"
   ]
  },
  {
   "cell_type": "code",
   "execution_count": 2,
   "metadata": {},
   "outputs": [
    {
     "name": "stdout",
     "output_type": "stream",
     "text": [
      "The difference between a and b is c = (-1+5j)\n"
     ]
    }
   ],
   "source": [
    "a = 5+2j\n",
    "b = 6-3j\n",
    "c = a - b\n",
    "print(\"The difference between a and b is c =\",c)"
   ]
  },
  {
   "cell_type": "markdown",
   "metadata": {},
   "source": [
    "# 2. Program to find fourth root of a number"
   ]
  },
  {
   "cell_type": "code",
   "execution_count": 4,
   "metadata": {},
   "outputs": [
    {
     "name": "stdout",
     "output_type": "stream",
     "text": [
      "Enter the number16\n",
      "The fourth root of  16 is  2.0\n"
     ]
    }
   ],
   "source": [
    "Num = int(input(\"Enter the number\"))\n",
    "ans = Num**(1/4)\n",
    "print(\"The fourth root of \",Num,\"is \",ans)"
   ]
  },
  {
   "cell_type": "markdown",
   "metadata": {},
   "source": [
    "# 3. Program to swap two numbers with a temporary variable"
   ]
  },
  {
   "cell_type": "code",
   "execution_count": 2,
   "metadata": {},
   "outputs": [
    {
     "name": "stdout",
     "output_type": "stream",
     "text": [
      "Enter the value of a: 5\n",
      "Enter the value if b: 10\n",
      "Value of a before swapping:  5\n",
      "Value of b before swapping:  10\n",
      "Value of a after swapping:  10\n",
      "Value of b after swapping:  5\n"
     ]
    }
   ],
   "source": [
    "a = input('Enter the value of a: ')\n",
    "b = input('Enter the value if b: ')\n",
    "\n",
    "print(\"Value of a before swapping: \", a)\n",
    "print(\"Value of b before swapping: \", b)\n",
    "\n",
    "c = a\n",
    "a = b\n",
    "b = c\n",
    "\n",
    "print(\"Value of a after swapping: \", a)\n",
    "print(\"Value of b after swapping: \", b)"
   ]
  },
  {
   "cell_type": "markdown",
   "metadata": {},
   "source": [
    "# 4. Program to swap two numbers without a temporary variable"
   ]
  },
  {
   "cell_type": "code",
   "execution_count": 3,
   "metadata": {},
   "outputs": [
    {
     "name": "stdout",
     "output_type": "stream",
     "text": [
      "Enter the value of a: 5\n",
      "Enter the value of b: 12\n",
      "Value of a before swapping:  5\n",
      "Value of b before swapping:  12\n",
      "Value of a after swapping:  12\n",
      "Value of b after swapping:  5\n"
     ]
    }
   ],
   "source": [
    "a = input('Enter the value of a: ')\n",
    "b = input('Enter the value of b: ')\n",
    "\n",
    "print(\"Value of a before swapping: \", a)\n",
    "print(\"Value of b before swapping: \", b)\n",
    "\n",
    "a, b = b, a\n",
    "\n",
    "print(\"Value of a after swapping: \", a)\n",
    "print(\"Value of b after swapping: \", b)"
   ]
  },
  {
   "cell_type": "markdown",
   "metadata": {},
   "source": [
    "# 5. Program to convert fahrenheit to kelvin and celsius"
   ]
  },
  {
   "cell_type": "code",
   "execution_count": 7,
   "metadata": {},
   "outputs": [
    {
     "name": "stdout",
     "output_type": "stream",
     "text": [
      "Enter the temperature in fahrenheit: 32\n",
      "Temperature in kelvin =  273.5\n",
      "Temperature in celsius =  0.0\n"
     ]
    }
   ],
   "source": [
    "F = int(input(\"Enter the temperature in fahrenheit: \"))\n",
    "K = 273.5 + ((F - 32) * (5/9))\n",
    "C = (F - 32) * 5/9\n",
    "print(\"Temperature in kelvin = \",K)\n",
    "print(\"Temperature in celsius = \",C)"
   ]
  },
  {
   "cell_type": "markdown",
   "metadata": {},
   "source": [
    "# 6. Program to demonstrate data types in python"
   ]
  },
  {
   "cell_type": "code",
   "execution_count": 16,
   "metadata": {},
   "outputs": [
    {
     "name": "stdout",
     "output_type": "stream",
     "text": [
      "a =  <class 'int'>\n",
      "b =  <class 'str'>\n",
      "c =  <class 'float'>\n",
      "d =  <class 'list'>\n",
      "e =  <class 'set'>\n",
      "f =  <class 'tuple'>\n",
      "g =  <class 'dict'>\n",
      "h =  <class 'complex'>\n"
     ]
    }
   ],
   "source": [
    "a = 10\n",
    "b = \"LetsUpgrade\"\n",
    "c = 1.234\n",
    "d = [1,2,3,4]\n",
    "e = {9,8,7,9,6}\n",
    "f = 1,00,00,000\n",
    "g = {\"key1\":100, \"key2\":25}\n",
    "h = 5+3j\n",
    "print(\"a = \",type(a))\n",
    "print(\"b = \",type(b))\n",
    "print(\"c = \",type(c))\n",
    "print(\"d = \",type(d))\n",
    "print(\"e = \",type(e))\n",
    "print(\"f = \",type(f))\n",
    "print(\"g = \",type(g))\n",
    "print(\"h = \",type(h))"
   ]
  },
  {
   "cell_type": "markdown",
   "metadata": {},
   "source": [
    "# 7. Steps to create Github profile and upload Github Assignment link\n",
    "## Create Github profile\n",
    "- Open Github \n",
    "- With help of Gmail, create your github profile\n",
    "- Click on New or create repository\n",
    "- Name of repository be 'LetsUpgrade AI-ML'\n",
    "- Description be 'Assignments'\n",
    "- Let the view be public by default\n",
    "- Click on create repository. The repository is created\n",
    "## Github Assignment submission\n",
    "- After completion of assignment, goto Github and open the repository created\n",
    "- Click on upload existing file\n",
    "- Drag or select the file from the drive and upload it\n",
    "- After uploading copy the url and paste it in the Assignment Submission Google Form that is given.\n"
   ]
  }
 ],
 "metadata": {
  "kernelspec": {
   "display_name": "Python 3",
   "language": "python",
   "name": "python3"
  },
  "language_info": {
   "codemirror_mode": {
    "name": "ipython",
    "version": 3
   },
   "file_extension": ".py",
   "mimetype": "text/x-python",
   "name": "python",
   "nbconvert_exporter": "python",
   "pygments_lexer": "ipython3",
   "version": "3.7.6"
  }
 },
 "nbformat": 4,
 "nbformat_minor": 4
}
